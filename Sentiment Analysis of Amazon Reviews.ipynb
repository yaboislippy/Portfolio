{
 "cells": [
  {
   "cell_type": "code",
   "execution_count": 6,
   "id": "529d7fee-2999-4ec4-9195-c1370666875b",
   "metadata": {},
   "outputs": [],
   "source": [
    "import kagglehub"
   ]
  },
  {
   "cell_type": "code",
   "execution_count": 7,
   "id": "d32cbad1-f320-45dd-a1eb-e67e16d4050c",
   "metadata": {},
   "outputs": [
    {
     "name": "stdout",
     "output_type": "stream",
     "text": [
      "Path to dataset files: C:\\Users\\stefa\\.cache\\kagglehub\\datasets\\datafiniti\\consumer-reviews-of-amazon-products\\versions\\5\n"
     ]
    }
   ],
   "source": [
    "# Download latest version\n",
    "path = kagglehub.dataset_download(\"datafiniti/consumer-reviews-of-amazon-products\")\n",
    "\n",
    "print(\"Path to dataset files:\", path)"
   ]
  },
  {
   "cell_type": "code",
   "execution_count": 8,
   "id": "70002401-1c0e-4266-aaf4-a35286e3055e",
   "metadata": {},
   "outputs": [],
   "source": [
    "# Import libraries\n",
    "import numpy as np\n",
    "import pandas as pd\n",
    "import spacy"
   ]
  },
  {
   "cell_type": "code",
   "execution_count": 9,
   "id": "8f1c0bcd-2a30-4b96-a98c-ededcd32bbaa",
   "metadata": {},
   "outputs": [],
   "source": [
    "# Load the medium English model\n",
    "nlp = spacy.load(\"en_core_web_md\")"
   ]
  },
  {
   "cell_type": "code",
   "execution_count": 10,
   "id": "2e7d6ff4-3047-4b97-ab26-8ba0d79fb4e0",
   "metadata": {},
   "outputs": [
    {
     "name": "stdout",
     "output_type": "stream",
     "text": [
      "                     id             dateAdded           dateUpdated  \\\n",
      "0  AVpgNzjwLJeJML43Kpxn  2015-10-30T08:59:32Z  2019-04-25T09:08:16Z   \n",
      "1  AVpgNzjwLJeJML43Kpxn  2015-10-30T08:59:32Z  2019-04-25T09:08:16Z   \n",
      "2  AVpgNzjwLJeJML43Kpxn  2015-10-30T08:59:32Z  2019-04-25T09:08:16Z   \n",
      "3  AVpgNzjwLJeJML43Kpxn  2015-10-30T08:59:32Z  2019-04-25T09:08:16Z   \n",
      "4  AVpgNzjwLJeJML43Kpxn  2015-10-30T08:59:32Z  2019-04-25T09:08:16Z   \n",
      "\n",
      "                                                name                  asins  \\\n",
      "0  AmazonBasics AAA Performance Alkaline Batterie...  B00QWO9P0O,B00LH3DMUO   \n",
      "1  AmazonBasics AAA Performance Alkaline Batterie...  B00QWO9P0O,B00LH3DMUO   \n",
      "2  AmazonBasics AAA Performance Alkaline Batterie...  B00QWO9P0O,B00LH3DMUO   \n",
      "3  AmazonBasics AAA Performance Alkaline Batterie...  B00QWO9P0O,B00LH3DMUO   \n",
      "4  AmazonBasics AAA Performance Alkaline Batterie...  B00QWO9P0O,B00LH3DMUO   \n",
      "\n",
      "          brand                                         categories  \\\n",
      "0  Amazonbasics  AA,AAA,Health,Electronics,Health & Household,C...   \n",
      "1  Amazonbasics  AA,AAA,Health,Electronics,Health & Household,C...   \n",
      "2  Amazonbasics  AA,AAA,Health,Electronics,Health & Household,C...   \n",
      "3  Amazonbasics  AA,AAA,Health,Electronics,Health & Household,C...   \n",
      "4  Amazonbasics  AA,AAA,Health,Electronics,Health & Household,C...   \n",
      "\n",
      "  primaryCategories                                          imageURLs  \\\n",
      "0   Health & Beauty  https://images-na.ssl-images-amazon.com/images...   \n",
      "1   Health & Beauty  https://images-na.ssl-images-amazon.com/images...   \n",
      "2   Health & Beauty  https://images-na.ssl-images-amazon.com/images...   \n",
      "3   Health & Beauty  https://images-na.ssl-images-amazon.com/images...   \n",
      "4   Health & Beauty  https://images-na.ssl-images-amazon.com/images...   \n",
      "\n",
      "                                                keys  ... reviews.didPurchase  \\\n",
      "0  amazonbasics/hl002619,amazonbasicsaaaperforman...  ...                 NaN   \n",
      "1  amazonbasics/hl002619,amazonbasicsaaaperforman...  ...                 NaN   \n",
      "2  amazonbasics/hl002619,amazonbasicsaaaperforman...  ...                 NaN   \n",
      "3  amazonbasics/hl002619,amazonbasicsaaaperforman...  ...                 NaN   \n",
      "4  amazonbasics/hl002619,amazonbasicsaaaperforman...  ...                 NaN   \n",
      "\n",
      "  reviews.doRecommend reviews.id reviews.numHelpful reviews.rating  \\\n",
      "0                 NaN        NaN                NaN              3   \n",
      "1                 NaN        NaN                NaN              4   \n",
      "2                 NaN        NaN                NaN              5   \n",
      "3                 NaN        NaN                NaN              5   \n",
      "4                 NaN        NaN                NaN              5   \n",
      "\n",
      "                                  reviews.sourceURLs  \\\n",
      "0  https://www.amazon.com/product-reviews/B00QWO9...   \n",
      "1  https://www.amazon.com/product-reviews/B00QWO9...   \n",
      "2  https://www.amazon.com/product-reviews/B00QWO9...   \n",
      "3  https://www.amazon.com/product-reviews/B00QWO9...   \n",
      "4  https://www.amazon.com/product-reviews/B00QWO9...   \n",
      "\n",
      "                                        reviews.text  \\\n",
      "0  I order 3 of them and one of the item is bad q...   \n",
      "1  Bulk is always the less expensive way to go fo...   \n",
      "2  Well they are not Duracell but for the price i...   \n",
      "3  Seem to work as well as name brand batteries a...   \n",
      "4  These batteries are very long lasting the pric...   \n",
      "\n",
      "                                       reviews.title  reviews.username  \\\n",
      "0  ... 3 of them and one of the item is bad quali...        Byger yang   \n",
      "1  ... always the less expensive way to go for pr...              ByMG   \n",
      "2  ... are not Duracell but for the price i am ha...  BySharon Lambert   \n",
      "3  ... as well as name brand batteries at a much ...     Bymark sexson   \n",
      "4  ... batteries are very long lasting the price ...           Bylinda   \n",
      "\n",
      "                                          sourceURLs  \n",
      "0  https://www.barcodable.com/upc/841710106442,ht...  \n",
      "1  https://www.barcodable.com/upc/841710106442,ht...  \n",
      "2  https://www.barcodable.com/upc/841710106442,ht...  \n",
      "3  https://www.barcodable.com/upc/841710106442,ht...  \n",
      "4  https://www.barcodable.com/upc/841710106442,ht...  \n",
      "\n",
      "[5 rows x 24 columns]\n"
     ]
    }
   ],
   "source": [
    "# Create df\n",
    "file_path = r\"C:\\Users\\stefa\\.cache\\kagglehub\\datasets\\datafiniti\\consumer-reviews-of-amazon-products\\versions\\5\\Datafiniti_Amazon_Consumer_Reviews_of_Amazon_Products_May19.csv\"\n",
    "df = pd.read_csv(file_path)\n",
    "\n",
    "print(df.head())"
   ]
  },
  {
   "cell_type": "code",
   "execution_count": 11,
   "id": "9b84d369-1211-4eaf-8418-c311ef743cc3",
   "metadata": {},
   "outputs": [
    {
     "data": {
      "text/plain": [
       "np.int64(12063)"
      ]
     },
     "execution_count": 11,
     "metadata": {},
     "output_type": "execute_result"
    }
   ],
   "source": [
    "# Check for duplicates\n",
    "df['reviews.username'].duplicated().sum() # (accounting for spam)"
   ]
  },
  {
   "cell_type": "code",
   "execution_count": 12,
   "id": "6ba1fa3a-fd2c-4863-82cc-630f00f1b64f",
   "metadata": {},
   "outputs": [
    {
     "data": {
      "text/html": [
       "<div>\n",
       "<style scoped>\n",
       "    .dataframe tbody tr th:only-of-type {\n",
       "        vertical-align: middle;\n",
       "    }\n",
       "\n",
       "    .dataframe tbody tr th {\n",
       "        vertical-align: top;\n",
       "    }\n",
       "\n",
       "    .dataframe thead th {\n",
       "        text-align: right;\n",
       "    }\n",
       "</style>\n",
       "<table border=\"1\" class=\"dataframe\">\n",
       "  <thead>\n",
       "    <tr style=\"text-align: right;\">\n",
       "      <th></th>\n",
       "      <th>reviews.id</th>\n",
       "      <th>reviews.numHelpful</th>\n",
       "      <th>reviews.rating</th>\n",
       "    </tr>\n",
       "  </thead>\n",
       "  <tbody>\n",
       "    <tr>\n",
       "      <th>count</th>\n",
       "      <td>4.100000e+01</td>\n",
       "      <td>16115.000000</td>\n",
       "      <td>28332.000000</td>\n",
       "    </tr>\n",
       "    <tr>\n",
       "      <th>mean</th>\n",
       "      <td>1.840066e+08</td>\n",
       "      <td>0.529321</td>\n",
       "      <td>4.514048</td>\n",
       "    </tr>\n",
       "    <tr>\n",
       "      <th>std</th>\n",
       "      <td>2.337036e+07</td>\n",
       "      <td>9.345017</td>\n",
       "      <td>0.934957</td>\n",
       "    </tr>\n",
       "    <tr>\n",
       "      <th>min</th>\n",
       "      <td>1.116244e+08</td>\n",
       "      <td>0.000000</td>\n",
       "      <td>1.000000</td>\n",
       "    </tr>\n",
       "    <tr>\n",
       "      <th>25%</th>\n",
       "      <td>1.843344e+08</td>\n",
       "      <td>0.000000</td>\n",
       "      <td>4.000000</td>\n",
       "    </tr>\n",
       "    <tr>\n",
       "      <th>50%</th>\n",
       "      <td>1.885078e+08</td>\n",
       "      <td>0.000000</td>\n",
       "      <td>5.000000</td>\n",
       "    </tr>\n",
       "    <tr>\n",
       "      <th>75%</th>\n",
       "      <td>1.988160e+08</td>\n",
       "      <td>0.000000</td>\n",
       "      <td>5.000000</td>\n",
       "    </tr>\n",
       "    <tr>\n",
       "      <th>max</th>\n",
       "      <td>2.085304e+08</td>\n",
       "      <td>621.000000</td>\n",
       "      <td>5.000000</td>\n",
       "    </tr>\n",
       "  </tbody>\n",
       "</table>\n",
       "</div>"
      ],
      "text/plain": [
       "         reviews.id  reviews.numHelpful  reviews.rating\n",
       "count  4.100000e+01        16115.000000    28332.000000\n",
       "mean   1.840066e+08            0.529321        4.514048\n",
       "std    2.337036e+07            9.345017        0.934957\n",
       "min    1.116244e+08            0.000000        1.000000\n",
       "25%    1.843344e+08            0.000000        4.000000\n",
       "50%    1.885078e+08            0.000000        5.000000\n",
       "75%    1.988160e+08            0.000000        5.000000\n",
       "max    2.085304e+08          621.000000        5.000000"
      ]
     },
     "execution_count": 12,
     "metadata": {},
     "output_type": "execute_result"
    }
   ],
   "source": [
    "df.describe()"
   ]
  },
  {
   "cell_type": "code",
   "execution_count": 13,
   "id": "10783e8f-c617-4388-8cf0-b88ae0fea6b2",
   "metadata": {},
   "outputs": [
    {
     "name": "stdout",
     "output_type": "stream",
     "text": [
      "<class 'pandas.core.frame.DataFrame'>\n",
      "RangeIndex: 28332 entries, 0 to 28331\n",
      "Data columns (total 24 columns):\n",
      " #   Column               Non-Null Count  Dtype  \n",
      "---  ------               --------------  -----  \n",
      " 0   id                   28332 non-null  object \n",
      " 1   dateAdded            28332 non-null  object \n",
      " 2   dateUpdated          28332 non-null  object \n",
      " 3   name                 28332 non-null  object \n",
      " 4   asins                28332 non-null  object \n",
      " 5   brand                28332 non-null  object \n",
      " 6   categories           28332 non-null  object \n",
      " 7   primaryCategories    28332 non-null  object \n",
      " 8   imageURLs            28332 non-null  object \n",
      " 9   keys                 28332 non-null  object \n",
      " 10  manufacturer         28332 non-null  object \n",
      " 11  manufacturerNumber   28332 non-null  object \n",
      " 12  reviews.date         28332 non-null  object \n",
      " 13  reviews.dateSeen     28332 non-null  object \n",
      " 14  reviews.didPurchase  9 non-null      object \n",
      " 15  reviews.doRecommend  16086 non-null  object \n",
      " 16  reviews.id           41 non-null     float64\n",
      " 17  reviews.numHelpful   16115 non-null  float64\n",
      " 18  reviews.rating       28332 non-null  int64  \n",
      " 19  reviews.sourceURLs   28332 non-null  object \n",
      " 20  reviews.text         28332 non-null  object \n",
      " 21  reviews.title        28332 non-null  object \n",
      " 22  reviews.username     28327 non-null  object \n",
      " 23  sourceURLs           28332 non-null  object \n",
      "dtypes: float64(2), int64(1), object(21)\n",
      "memory usage: 5.2+ MB\n"
     ]
    }
   ],
   "source": [
    "df.info()"
   ]
  },
  {
   "cell_type": "code",
   "execution_count": 14,
   "id": "285324c3-2220-449a-b1e5-eff427e1a2d2",
   "metadata": {},
   "outputs": [
    {
     "name": "stdout",
     "output_type": "stream",
     "text": [
      "Number of rows: 28332\n"
     ]
    }
   ],
   "source": [
    "num_rows = df.shape[0]\n",
    "print(f\"Number of rows: {num_rows}\")"
   ]
  },
  {
   "cell_type": "code",
   "execution_count": 15,
   "id": "81d81469-121d-41ea-a885-df035ac8596c",
   "metadata": {},
   "outputs": [],
   "source": [
    "import string\n",
    "\n",
    "def clean_text(text):\n",
    "    if not isinstance(text, str):\n",
    "        return \"\"\n",
    "    \n",
    "    # Convert to lowercase and strip whitespace\n",
    "    text = text.lower().strip()\n",
    "    \n",
    "    # Process with spaCy\n",
    "    doc = nlp(text)\n",
    "    \n",
    "    # Filter tokens\n",
    "    cleaned_tokens = [\n",
    "        token.text for token in doc\n",
    "        if not token.is_stop                      # Remove stop words\n",
    "        and token.is_alpha                        # Remove punctuation/numbers\n",
    "    ]\n",
    "    \n",
    "    # Join cleaned tokens into a single string\n",
    "    return \" \".join(cleaned_tokens)"
   ]
  },
  {
   "cell_type": "markdown",
   "id": "29dc7dcb-1994-4d90-9d23-b9d037656641",
   "metadata": {},
   "source": [
    "The above code was done to remove spam reviews, and only keeping the most recent review per username. This was done because the last review of every username is more important, since it displays the rating of the most recent "
   ]
  },
  {
   "cell_type": "code",
   "execution_count": 16,
   "id": "f6ccf8b9-1423-4952-9e3c-3c162526d919",
   "metadata": {},
   "outputs": [],
   "source": [
    "# Drop rows with missing usernames\n",
    "\n",
    "df = df[df['reviews.username'].notnull()]"
   ]
  },
  {
   "cell_type": "code",
   "execution_count": 17,
   "id": "2a7aef0f-2c2a-44ff-a196-a3fa87748353",
   "metadata": {},
   "outputs": [],
   "source": [
    "# Apply text cleaning\n",
    "df['cleaned_text'] = df['reviews.text'].apply(clean_text)"
   ]
  },
  {
   "cell_type": "code",
   "execution_count": 18,
   "id": "a4ce9ed5-0d9a-4e79-8c81-a6bb5978a908",
   "metadata": {},
   "outputs": [],
   "source": [
    "# Dropped all rows from df where 'cleaned_text' has missing values.\n",
    "clean_data = df.dropna(subset=['cleaned_text']) "
   ]
  },
  {
   "cell_type": "code",
   "execution_count": 19,
   "id": "ccc98ef4-b41a-443c-aa84-974e8430c319",
   "metadata": {},
   "outputs": [],
   "source": [
    "# Sentiment function\n",
    "\n",
    "from textblob import TextBlob\n",
    "\n",
    "def analyze_sentiment_textblob(review):\n",
    "    blob = TextBlob(review)\n",
    "    polarity = blob.sentiment.polarity\n",
    "\n",
    "    # Threshold\n",
    "    if polarity > 0.1:\n",
    "        return 'positive'\n",
    "    elif polarity < -0.1:\n",
    "        return 'negative'\n",
    "    else:\n",
    "        return 'neutral'\n"
   ]
  },
  {
   "cell_type": "code",
   "execution_count": 20,
   "id": "f5cf990a-ae2c-4bbd-bc5f-8100ab75b241",
   "metadata": {},
   "outputs": [
    {
     "name": "stdout",
     "output_type": "stream",
     "text": [
      "Review: I absolutely love this product!\n",
      "Sentiment: positive\n",
      "\n",
      "Review: It’s okay, not great.\n",
      "Sentiment: neutral\n",
      "\n",
      "Review: This is the worst battery I've ever used.\n",
      "Sentiment: negative\n",
      "\n"
     ]
    }
   ],
   "source": [
    "# Sample reviews\n",
    "\n",
    "sample_reviews = [\n",
    "    \"I absolutely love this product!\",\n",
    "    \"It’s okay, not great.\",\n",
    "    \"This is the worst battery I've ever used.\"\n",
    "]\n",
    "\n",
    "for review in sample_reviews:\n",
    "    sentiment = analyze_sentiment_textblob(review)\n",
    "    print(f\"Review: {review}\\nSentiment: {sentiment}\\n\")"
   ]
  },
  {
   "cell_type": "code",
   "execution_count": 21,
   "id": "18769d76-0a77-4095-a75c-c9610500f7a5",
   "metadata": {},
   "outputs": [],
   "source": [
    "# Apply to df\n",
    "\n",
    "df['sentiment'] = df['cleaned_text'].apply(analyze_sentiment_textblob)\n"
   ]
  },
  {
   "cell_type": "code",
   "execution_count": 22,
   "id": "4afefd07-ca69-4a53-a5bc-5ded8ed40eed",
   "metadata": {},
   "outputs": [
    {
     "name": "stdout",
     "output_type": "stream",
     "text": [
      "                                        cleaned_text sentiment\n",
      "0  order item bad quality missing backup spring p...  negative\n",
      "1                   bulk expensive way products like  negative\n",
      "2                               duracell price happy  positive\n",
      "3                  work brand batteries better price  positive\n",
      "4                 batteries long lasting price great  positive\n"
     ]
    }
   ],
   "source": [
    "# Check results\n",
    "print(df[['cleaned_text', 'sentiment']].head())"
   ]
  },
  {
   "cell_type": "code",
   "execution_count": 23,
   "id": "f165664a-abfb-48ec-99cc-bd76348930ce",
   "metadata": {},
   "outputs": [],
   "source": [
    "# Rating to sentiment function\n",
    "\n",
    "def rating_to_sentiment(rating):\n",
    "    if rating >= 4:\n",
    "        return \"positive\"\n",
    "    elif rating == 3:\n",
    "        return \"neutral\"\n",
    "    else:\n",
    "        return \"negative\"\n",
    "\n",
    "df['rating_sentiment'] = df['reviews.rating'].apply(rating_to_sentiment)\n"
   ]
  },
  {
   "cell_type": "code",
   "execution_count": 24,
   "id": "7f02e204-9bdb-4ae5-b8b2-12062c2e1d46",
   "metadata": {},
   "outputs": [
    {
     "name": "stdout",
     "output_type": "stream",
     "text": [
      "Accuracy: 0.76\n"
     ]
    }
   ],
   "source": [
    "from sklearn.metrics import accuracy_score\n",
    "\n",
    "accuracy = accuracy_score(df['rating_sentiment'], df['sentiment'])\n",
    "print(f\"Accuracy: {accuracy:.2f}\")\n"
   ]
  },
  {
   "cell_type": "code",
   "execution_count": 25,
   "id": "1e9e3780-849e-498e-80d4-914caeaca6c6",
   "metadata": {},
   "outputs": [
    {
     "data": {
      "image/png": "[encoded data removed]",
      "text/plain": [
       "<Figure size 600x500 with 2 Axes>"
      ]
     },
     "metadata": {},
     "output_type": "display_data"
    },
    {
     "name": "stdout",
     "output_type": "stream",
     "text": [
      "              precision    recall  f1-score   support\n",
      "\n",
      "    positive       0.39      0.25      0.31      1580\n",
      "     neutral       0.07      0.32      0.11      1206\n",
      "    negative       0.94      0.81      0.87     25541\n",
      "\n",
      "    accuracy                           0.76     28327\n",
      "   macro avg       0.47      0.46      0.43     28327\n",
      "weighted avg       0.88      0.76      0.81     28327\n",
      "\n"
     ]
    }
   ],
   "source": [
    "from sklearn.metrics import confusion_matrix, classification_report\n",
    "import matplotlib.pyplot as plt\n",
    "import seaborn as sns\n",
    "\n",
    "# Confusion matrix\n",
    "cm = confusion_matrix(df['rating_sentiment'], df['sentiment'], labels=['positive', 'neutral', 'negative'])\n",
    "\n",
    "# Plot confusion matrix\n",
    "plt.figure(figsize=(6,5))\n",
    "sns.heatmap(cm, annot=True, fmt='d', xticklabels=['positive', 'neutral', 'negative'], yticklabels=['positive', 'neutral', 'negative'])\n",
    "plt.xlabel('Predicted Sentiment')\n",
    "plt.ylabel('Rating Sentiment')\n",
    "plt.title('Confusion Matrix: Predicted vs. Rating Sentiment')\n",
    "plt.show()\n",
    "\n",
    "# Print classification report for detailed metrics\n",
    "print(classification_report(df['rating_sentiment'], df['sentiment'], target_names=['positive', 'neutral', 'negative']))\n"
   ]
  },
  {
   "cell_type": "code",
   "execution_count": 26,
   "id": "07f1f4c7-efa1-41ba-bde8-44e1209bde56",
   "metadata": {},
   "outputs": [
    {
     "name": "stdout",
     "output_type": "stream",
     "text": [
      "Overall accuracy: 75.55%\n"
     ]
    },
    {
     "data": {
      "image/png": "[encoded data removed]",
      "text/plain": [
       "<Figure size 640x480 with 1 Axes>"
      ]
     },
     "metadata": {},
     "output_type": "display_data"
    }
   ],
   "source": [
    "df['match'] = df['sentiment'] == df['rating_sentiment']\n",
    "accuracy = df['match'].mean()\n",
    "print(f\"Overall accuracy: {accuracy:.2%}\")\n",
    "\n",
    "# Bar chart of matches vs mismatches\n",
    "sns.countplot(x='match', data=df)\n",
    "plt.title('Match between Predicted and Rating Sentiment')\n",
    "plt.xlabel('Prediction Correct?')\n",
    "plt.ylabel('Count')\n",
    "plt.show()"
   ]
  },
  {
   "cell_type": "code",
   "execution_count": null,
   "id": "335e7685-9028-4fbc-91a7-3e2a5bbcab6c",
   "metadata": {},
   "outputs": [],
   "source": []
  },
  {
   "cell_type": "code",
   "execution_count": null,
   "id": "b6d7a8db-6fb2-46f7-8375-57e12ed8169d",
   "metadata": {},
   "outputs": [],
   "source": []
  }
 ],
 "metadata": {
  "kernelspec": {
   "display_name": "Python 3 (ipykernel)",
   "language": "python",
   "name": "python3"
  },
  "language_info": {
   "codemirror_mode": {
    "name": "ipython",
    "version": 3
   },
   "file_extension": ".py",
   "mimetype": "text/x-python",
   "name": "python",
   "nbconvert_exporter": "python",
   "pygments_lexer": "ipython3",
   "version": "3.13.2"
  }
 },
 "nbformat": 4,
 "nbformat_minor": 5
}
